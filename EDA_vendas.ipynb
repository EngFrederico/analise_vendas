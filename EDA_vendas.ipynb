{
 "cells": [
  {
   "cell_type": "markdown",
   "id": "3e9d90fb",
   "metadata": {},
   "source": [
    "## Análise de Vendas da empresa em 2021\n",
    "\n",
    "### Objetivo dessa análise é explorar os resultados de vendas ao longo do ano e obter algumas repostas.\n",
    "\n",
    "\n",
    "\n",
    "Através dessa analise queremos obter os seguintes resultados:\n",
    "\n",
    "Valor Total de Vendas em 2021\n",
    "\n",
    "Quantidade Total Vendida\n",
    "\n",
    "Ticket médio de vendas\n",
    "\n",
    "Abertura por mês\n",
    "\n",
    "Abertura por Vendedor\n"
   ]
  },
  {
   "cell_type": "code",
   "execution_count": 1,
   "id": "da6abb38",
   "metadata": {},
   "outputs": [],
   "source": [
    "# importação das bibliotecas necessárias\n",
    "\n",
    "import pandas as pd\n",
    "import matplotlib.pyplot as plt\n",
    "import seaborn as sns\n",
    "import plotly.express as px\n",
    "import numpy as np\n",
    "import datetime\n",
    "\n",
    "import warnings\n",
    "\n",
    "warnings.filterwarnings ('ignore')"
   ]
  },
  {
   "cell_type": "code",
   "execution_count": 2,
   "id": "e704f91f",
   "metadata": {},
   "outputs": [
    {
     "data": {
      "text/html": [
       "<div>\n",
       "<style scoped>\n",
       "    .dataframe tbody tr th:only-of-type {\n",
       "        vertical-align: middle;\n",
       "    }\n",
       "\n",
       "    .dataframe tbody tr th {\n",
       "        vertical-align: top;\n",
       "    }\n",
       "\n",
       "    .dataframe thead th {\n",
       "        text-align: right;\n",
       "    }\n",
       "</style>\n",
       "<table border=\"1\" class=\"dataframe\">\n",
       "  <thead>\n",
       "    <tr style=\"text-align: right;\">\n",
       "      <th></th>\n",
       "      <th>Data da Venda</th>\n",
       "      <th>Item</th>\n",
       "      <th>Quantidade</th>\n",
       "      <th>Vendedor</th>\n",
       "      <th>Preço Unitário</th>\n",
       "      <th>Total de Vendas</th>\n",
       "    </tr>\n",
       "  </thead>\n",
       "  <tbody>\n",
       "    <tr>\n",
       "      <th>0</th>\n",
       "      <td>2021-01-02</td>\n",
       "      <td>Lente 50mm f/1.4</td>\n",
       "      <td>2</td>\n",
       "      <td>Carlos</td>\n",
       "      <td>1649</td>\n",
       "      <td>3298</td>\n",
       "    </tr>\n",
       "    <tr>\n",
       "      <th>1</th>\n",
       "      <td>2021-01-02</td>\n",
       "      <td>Filtro ND 5 Stop</td>\n",
       "      <td>2</td>\n",
       "      <td>Raquel</td>\n",
       "      <td>1220</td>\n",
       "      <td>2440</td>\n",
       "    </tr>\n",
       "    <tr>\n",
       "      <th>2</th>\n",
       "      <td>2021-01-03</td>\n",
       "      <td>Filtro ND 5 Stop</td>\n",
       "      <td>2</td>\n",
       "      <td>Raquel</td>\n",
       "      <td>1220</td>\n",
       "      <td>2440</td>\n",
       "    </tr>\n",
       "    <tr>\n",
       "      <th>3</th>\n",
       "      <td>2021-01-03</td>\n",
       "      <td>Lente 16-35mm f/2.8</td>\n",
       "      <td>2</td>\n",
       "      <td>Carlos</td>\n",
       "      <td>8997</td>\n",
       "      <td>17994</td>\n",
       "    </tr>\n",
       "    <tr>\n",
       "      <th>4</th>\n",
       "      <td>2021-01-04</td>\n",
       "      <td>Lente 16-35mm f/2.8</td>\n",
       "      <td>2</td>\n",
       "      <td>Fernanda</td>\n",
       "      <td>8997</td>\n",
       "      <td>17994</td>\n",
       "    </tr>\n",
       "  </tbody>\n",
       "</table>\n",
       "</div>"
      ],
      "text/plain": [
       "  Data da Venda                 Item  Quantidade  Vendedor  Preço Unitário  \\\n",
       "0    2021-01-02     Lente 50mm f/1.4           2    Carlos            1649   \n",
       "1    2021-01-02     Filtro ND 5 Stop           2    Raquel            1220   \n",
       "2    2021-01-03     Filtro ND 5 Stop           2    Raquel            1220   \n",
       "3    2021-01-03  Lente 16-35mm f/2.8           2    Carlos            8997   \n",
       "4    2021-01-04  Lente 16-35mm f/2.8           2  Fernanda            8997   \n",
       "\n",
       "   Total de Vendas  \n",
       "0             3298  \n",
       "1             2440  \n",
       "2             2440  \n",
       "3            17994  \n",
       "4            17994  "
      ]
     },
     "execution_count": 2,
     "metadata": {},
     "output_type": "execute_result"
    }
   ],
   "source": [
    "# importação do dataset\n",
    "\n",
    "planilha = pd.read_excel(\"controle_da_empresa2021.xlsx\", None) # None serve para trazer todas as abas da planilha\n",
    "df = planilha['Vendas']\n",
    "\n",
    "# ver as 5 primeiras entradas\n",
    "df.head()\n"
   ]
  },
  {
   "cell_type": "code",
   "execution_count": 3,
   "id": "6664f81f",
   "metadata": {},
   "outputs": [
    {
     "name": "stdout",
     "output_type": "stream",
     "text": [
      "Esse dataset possui 424 linhas e 6 colunas.\n"
     ]
    }
   ],
   "source": [
    "# identificação de linhas e colunas\n",
    "\n",
    "print('Esse dataset possui', df.shape[0], 'linhas e', df.shape[1], 'colunas.')"
   ]
  },
  {
   "cell_type": "code",
   "execution_count": 4,
   "id": "5fd619a5",
   "metadata": {},
   "outputs": [],
   "source": [
    "# ajuste dos nomes das colunas\n",
    "\n",
    "colunas = {'Data da Venda':'data_venda','Item':'item','Quantidade':'quantidade',\n",
    "           'Vendedor':'vendedor','Preço Unitário':'preco_unitario',\n",
    "          'Total de Vendas':'total_vendas'}\n",
    "\n",
    "df.rename(columns=colunas, inplace=True)"
   ]
  },
  {
   "cell_type": "code",
   "execution_count": 5,
   "id": "28e7adbc",
   "metadata": {},
   "outputs": [],
   "source": [
    "# inclusão da colunas mês\n",
    "\n",
    "df['mes'] = df['data_venda'].dt.month "
   ]
  },
  {
   "cell_type": "code",
   "execution_count": 6,
   "id": "daae1d29",
   "metadata": {},
   "outputs": [
    {
     "data": {
      "text/html": [
       "<div>\n",
       "<style scoped>\n",
       "    .dataframe tbody tr th:only-of-type {\n",
       "        vertical-align: middle;\n",
       "    }\n",
       "\n",
       "    .dataframe tbody tr th {\n",
       "        vertical-align: top;\n",
       "    }\n",
       "\n",
       "    .dataframe thead th {\n",
       "        text-align: right;\n",
       "    }\n",
       "</style>\n",
       "<table border=\"1\" class=\"dataframe\">\n",
       "  <thead>\n",
       "    <tr style=\"text-align: right;\">\n",
       "      <th></th>\n",
       "      <th>data_venda</th>\n",
       "      <th>item</th>\n",
       "      <th>quantidade</th>\n",
       "      <th>vendedor</th>\n",
       "      <th>preco_unitario</th>\n",
       "      <th>total_vendas</th>\n",
       "      <th>mes</th>\n",
       "    </tr>\n",
       "  </thead>\n",
       "  <tbody>\n",
       "    <tr>\n",
       "      <th>0</th>\n",
       "      <td>2021-01-02</td>\n",
       "      <td>Lente 50mm f/1.4</td>\n",
       "      <td>2</td>\n",
       "      <td>Carlos</td>\n",
       "      <td>1649</td>\n",
       "      <td>3298</td>\n",
       "      <td>1</td>\n",
       "    </tr>\n",
       "    <tr>\n",
       "      <th>1</th>\n",
       "      <td>2021-01-02</td>\n",
       "      <td>Filtro ND 5 Stop</td>\n",
       "      <td>2</td>\n",
       "      <td>Raquel</td>\n",
       "      <td>1220</td>\n",
       "      <td>2440</td>\n",
       "      <td>1</td>\n",
       "    </tr>\n",
       "    <tr>\n",
       "      <th>2</th>\n",
       "      <td>2021-01-03</td>\n",
       "      <td>Filtro ND 5 Stop</td>\n",
       "      <td>2</td>\n",
       "      <td>Raquel</td>\n",
       "      <td>1220</td>\n",
       "      <td>2440</td>\n",
       "      <td>1</td>\n",
       "    </tr>\n",
       "    <tr>\n",
       "      <th>3</th>\n",
       "      <td>2021-01-03</td>\n",
       "      <td>Lente 16-35mm f/2.8</td>\n",
       "      <td>2</td>\n",
       "      <td>Carlos</td>\n",
       "      <td>8997</td>\n",
       "      <td>17994</td>\n",
       "      <td>1</td>\n",
       "    </tr>\n",
       "    <tr>\n",
       "      <th>4</th>\n",
       "      <td>2021-01-04</td>\n",
       "      <td>Lente 16-35mm f/2.8</td>\n",
       "      <td>2</td>\n",
       "      <td>Fernanda</td>\n",
       "      <td>8997</td>\n",
       "      <td>17994</td>\n",
       "      <td>1</td>\n",
       "    </tr>\n",
       "  </tbody>\n",
       "</table>\n",
       "</div>"
      ],
      "text/plain": [
       "  data_venda                 item  quantidade  vendedor  preco_unitario  \\\n",
       "0 2021-01-02     Lente 50mm f/1.4           2    Carlos            1649   \n",
       "1 2021-01-02     Filtro ND 5 Stop           2    Raquel            1220   \n",
       "2 2021-01-03     Filtro ND 5 Stop           2    Raquel            1220   \n",
       "3 2021-01-03  Lente 16-35mm f/2.8           2    Carlos            8997   \n",
       "4 2021-01-04  Lente 16-35mm f/2.8           2  Fernanda            8997   \n",
       "\n",
       "   total_vendas  mes  \n",
       "0          3298    1  \n",
       "1          2440    1  \n",
       "2          2440    1  \n",
       "3         17994    1  \n",
       "4         17994    1  "
      ]
     },
     "execution_count": 6,
     "metadata": {},
     "output_type": "execute_result"
    }
   ],
   "source": [
    "# ver as 5 primeiras entradas\n",
    "df.head()"
   ]
  },
  {
   "cell_type": "code",
   "execution_count": 7,
   "id": "b3a08c59",
   "metadata": {},
   "outputs": [
    {
     "name": "stdout",
     "output_type": "stream",
     "text": [
      "<class 'pandas.core.frame.DataFrame'>\n",
      "RangeIndex: 424 entries, 0 to 423\n",
      "Data columns (total 7 columns):\n",
      " #   Column          Non-Null Count  Dtype         \n",
      "---  ------          --------------  -----         \n",
      " 0   data_venda      424 non-null    datetime64[ns]\n",
      " 1   item            424 non-null    object        \n",
      " 2   quantidade      424 non-null    int64         \n",
      " 3   vendedor        424 non-null    object        \n",
      " 4   preco_unitario  424 non-null    int64         \n",
      " 5   total_vendas    424 non-null    int64         \n",
      " 6   mes             424 non-null    int64         \n",
      "dtypes: datetime64[ns](1), int64(4), object(2)\n",
      "memory usage: 23.3+ KB\n"
     ]
    }
   ],
   "source": [
    "# verificação dos tipos de dados do dataset\n",
    "\n",
    "df.info()"
   ]
  },
  {
   "cell_type": "code",
   "execution_count": 8,
   "id": "9bc86e26",
   "metadata": {},
   "outputs": [
    {
     "data": {
      "text/html": [
       "<div>\n",
       "<style scoped>\n",
       "    .dataframe tbody tr th:only-of-type {\n",
       "        vertical-align: middle;\n",
       "    }\n",
       "\n",
       "    .dataframe tbody tr th {\n",
       "        vertical-align: top;\n",
       "    }\n",
       "\n",
       "    .dataframe thead th {\n",
       "        text-align: right;\n",
       "    }\n",
       "</style>\n",
       "<table border=\"1\" class=\"dataframe\">\n",
       "  <thead>\n",
       "    <tr style=\"text-align: right;\">\n",
       "      <th></th>\n",
       "      <th>Qtde_Nulos</th>\n",
       "    </tr>\n",
       "  </thead>\n",
       "  <tbody>\n",
       "    <tr>\n",
       "      <th>data_venda</th>\n",
       "      <td>0</td>\n",
       "    </tr>\n",
       "    <tr>\n",
       "      <th>item</th>\n",
       "      <td>0</td>\n",
       "    </tr>\n",
       "    <tr>\n",
       "      <th>quantidade</th>\n",
       "      <td>0</td>\n",
       "    </tr>\n",
       "    <tr>\n",
       "      <th>vendedor</th>\n",
       "      <td>0</td>\n",
       "    </tr>\n",
       "    <tr>\n",
       "      <th>preco_unitario</th>\n",
       "      <td>0</td>\n",
       "    </tr>\n",
       "    <tr>\n",
       "      <th>total_vendas</th>\n",
       "      <td>0</td>\n",
       "    </tr>\n",
       "    <tr>\n",
       "      <th>mes</th>\n",
       "      <td>0</td>\n",
       "    </tr>\n",
       "  </tbody>\n",
       "</table>\n",
       "</div>"
      ],
      "text/plain": [
       "                Qtde_Nulos\n",
       "data_venda               0\n",
       "item                     0\n",
       "quantidade               0\n",
       "vendedor                 0\n",
       "preco_unitario           0\n",
       "total_vendas             0\n",
       "mes                      0"
      ]
     },
     "execution_count": 8,
     "metadata": {},
     "output_type": "execute_result"
    }
   ],
   "source": [
    "# verificando valores nulos\n",
    "\n",
    "var_null = df.isnull().sum().sort_values(ascending=[False])\n",
    "pd.DataFrame(var_null,columns=['Qtde_Nulos'])"
   ]
  },
  {
   "cell_type": "code",
   "execution_count": 9,
   "id": "d8cee81b",
   "metadata": {},
   "outputs": [
    {
     "data": {
      "text/html": [
       "<div>\n",
       "<style scoped>\n",
       "    .dataframe tbody tr th:only-of-type {\n",
       "        vertical-align: middle;\n",
       "    }\n",
       "\n",
       "    .dataframe tbody tr th {\n",
       "        vertical-align: top;\n",
       "    }\n",
       "\n",
       "    .dataframe thead th {\n",
       "        text-align: right;\n",
       "    }\n",
       "</style>\n",
       "<table border=\"1\" class=\"dataframe\">\n",
       "  <thead>\n",
       "    <tr style=\"text-align: right;\">\n",
       "      <th></th>\n",
       "      <th>count</th>\n",
       "      <th>mean</th>\n",
       "      <th>std</th>\n",
       "      <th>min</th>\n",
       "      <th>25%</th>\n",
       "      <th>50%</th>\n",
       "      <th>75%</th>\n",
       "      <th>max</th>\n",
       "    </tr>\n",
       "  </thead>\n",
       "  <tbody>\n",
       "    <tr>\n",
       "      <th>quantidade</th>\n",
       "      <td>424.0</td>\n",
       "      <td>1.514151</td>\n",
       "      <td>0.500390</td>\n",
       "      <td>1.0</td>\n",
       "      <td>1.0</td>\n",
       "      <td>2.0</td>\n",
       "      <td>2.0</td>\n",
       "      <td>2.0</td>\n",
       "    </tr>\n",
       "    <tr>\n",
       "      <th>preco_unitario</th>\n",
       "      <td>424.0</td>\n",
       "      <td>5996.268868</td>\n",
       "      <td>4805.667398</td>\n",
       "      <td>1220.0</td>\n",
       "      <td>1220.0</td>\n",
       "      <td>5790.0</td>\n",
       "      <td>8997.0</td>\n",
       "      <td>13650.0</td>\n",
       "    </tr>\n",
       "    <tr>\n",
       "      <th>total_vendas</th>\n",
       "      <td>424.0</td>\n",
       "      <td>9098.325472</td>\n",
       "      <td>8231.879820</td>\n",
       "      <td>1220.0</td>\n",
       "      <td>2440.0</td>\n",
       "      <td>8500.0</td>\n",
       "      <td>13650.0</td>\n",
       "      <td>27300.0</td>\n",
       "    </tr>\n",
       "    <tr>\n",
       "      <th>mes</th>\n",
       "      <td>424.0</td>\n",
       "      <td>5.757075</td>\n",
       "      <td>3.731528</td>\n",
       "      <td>1.0</td>\n",
       "      <td>2.0</td>\n",
       "      <td>6.0</td>\n",
       "      <td>9.0</td>\n",
       "      <td>12.0</td>\n",
       "    </tr>\n",
       "  </tbody>\n",
       "</table>\n",
       "</div>"
      ],
      "text/plain": [
       "                count         mean          std     min     25%     50%  \\\n",
       "quantidade      424.0     1.514151     0.500390     1.0     1.0     2.0   \n",
       "preco_unitario  424.0  5996.268868  4805.667398  1220.0  1220.0  5790.0   \n",
       "total_vendas    424.0  9098.325472  8231.879820  1220.0  2440.0  8500.0   \n",
       "mes             424.0     5.757075     3.731528     1.0     2.0     6.0   \n",
       "\n",
       "                    75%      max  \n",
       "quantidade          2.0      2.0  \n",
       "preco_unitario   8997.0  13650.0  \n",
       "total_vendas    13650.0  27300.0  \n",
       "mes                 9.0     12.0  "
      ]
     },
     "execution_count": 9,
     "metadata": {},
     "output_type": "execute_result"
    }
   ],
   "source": [
    "# análise descritiva inicial do dataset\n",
    "\n",
    "df.describe().T"
   ]
  },
  {
   "cell_type": "code",
   "execution_count": 10,
   "id": "d2763809",
   "metadata": {},
   "outputs": [
    {
     "data": {
      "image/png": "[encoded data removed]",
      "text/plain": [
       "<Figure size 864x432 with 1 Axes>"
      ]
     },
     "metadata": {
      "needs_background": "light"
     },
     "output_type": "display_data"
    }
   ],
   "source": [
    "# Distribuição dos dados = Total de vendas\n",
    "\n",
    "plt.figure(figsize=(12,6))\n",
    "plt.hist(x='total_vendas',data=df,alpha=0.5)\n",
    "plt.title(\"Histograma de Vendas\",fontsize=(20),pad=15)\n",
    "plt.ylabel(\"Frequência\",fontsize=(15),labelpad=15)\n",
    "plt.xlabel(\"Valor vendido\",fontsize=(15),labelpad=15)\n",
    "plt.yticks(fontsize=15) \n",
    "plt.xticks(fontsize=15) \n",
    "plt.show()"
   ]
  },
  {
   "cell_type": "markdown",
   "id": "e79dff42",
   "metadata": {},
   "source": [
    "#### Valor total vendido em 2021 e quantidade total"
   ]
  },
  {
   "cell_type": "code",
   "execution_count": 11,
   "id": "8684ad31",
   "metadata": {},
   "outputs": [
    {
     "name": "stdout",
     "output_type": "stream",
     "text": [
      "3857690\n",
      "642\n"
     ]
    }
   ],
   "source": [
    "valor_2021 = df['total_vendas'].sum()\n",
    "print(valor_2021)\n",
    "\n",
    "quantidade_2021 = df['quantidade'].sum()\n",
    "print(quantidade_2021)"
   ]
  },
  {
   "cell_type": "code",
   "execution_count": 12,
   "id": "cc306120",
   "metadata": {},
   "outputs": [
    {
     "name": "stdout",
     "output_type": "stream",
     "text": [
      "O valor total vendido em 2021 foi de R$ 3857690.\n",
      "\n",
      "A quantidade total que foi vendido em 2021 é de 642 unidades\n"
     ]
    }
   ],
   "source": [
    "print(f'O valor total vendido em 2021 foi de R$ {valor_2021}.')\n",
    "print(f'\\nA quantidade total que foi vendido em 2021 é de {quantidade_2021} unidades')"
   ]
  },
  {
   "cell_type": "markdown",
   "id": "100238d0",
   "metadata": {},
   "source": [
    "#### Ticket médio de vendas mensal"
   ]
  },
  {
   "cell_type": "code",
   "execution_count": 13,
   "id": "7f1fe375",
   "metadata": {},
   "outputs": [
    {
     "data": {
      "text/html": [
       "<div>\n",
       "<style scoped>\n",
       "    .dataframe tbody tr th:only-of-type {\n",
       "        vertical-align: middle;\n",
       "    }\n",
       "\n",
       "    .dataframe tbody tr th {\n",
       "        vertical-align: top;\n",
       "    }\n",
       "\n",
       "    .dataframe thead th {\n",
       "        text-align: right;\n",
       "    }\n",
       "</style>\n",
       "<table border=\"1\" class=\"dataframe\">\n",
       "  <thead>\n",
       "    <tr style=\"text-align: right;\">\n",
       "      <th></th>\n",
       "      <th>quantidade</th>\n",
       "      <th>total_vendas</th>\n",
       "    </tr>\n",
       "    <tr>\n",
       "      <th>mes</th>\n",
       "      <th></th>\n",
       "      <th></th>\n",
       "    </tr>\n",
       "  </thead>\n",
       "  <tbody>\n",
       "    <tr>\n",
       "      <th>1</th>\n",
       "      <td>139</td>\n",
       "      <td>855799</td>\n",
       "    </tr>\n",
       "    <tr>\n",
       "      <th>2</th>\n",
       "      <td>43</td>\n",
       "      <td>254522</td>\n",
       "    </tr>\n",
       "    <tr>\n",
       "      <th>3</th>\n",
       "      <td>53</td>\n",
       "      <td>273834</td>\n",
       "    </tr>\n",
       "    <tr>\n",
       "      <th>4</th>\n",
       "      <td>41</td>\n",
       "      <td>273674</td>\n",
       "    </tr>\n",
       "    <tr>\n",
       "      <th>5</th>\n",
       "      <td>46</td>\n",
       "      <td>277773</td>\n",
       "    </tr>\n",
       "    <tr>\n",
       "      <th>6</th>\n",
       "      <td>45</td>\n",
       "      <td>267447</td>\n",
       "    </tr>\n",
       "    <tr>\n",
       "      <th>7</th>\n",
       "      <td>43</td>\n",
       "      <td>273831</td>\n",
       "    </tr>\n",
       "    <tr>\n",
       "      <th>8</th>\n",
       "      <td>47</td>\n",
       "      <td>244092</td>\n",
       "    </tr>\n",
       "    <tr>\n",
       "      <th>9</th>\n",
       "      <td>44</td>\n",
       "      <td>274004</td>\n",
       "    </tr>\n",
       "    <tr>\n",
       "      <th>10</th>\n",
       "      <td>43</td>\n",
       "      <td>273334</td>\n",
       "    </tr>\n",
       "    <tr>\n",
       "      <th>11</th>\n",
       "      <td>48</td>\n",
       "      <td>308940</td>\n",
       "    </tr>\n",
       "    <tr>\n",
       "      <th>12</th>\n",
       "      <td>50</td>\n",
       "      <td>280440</td>\n",
       "    </tr>\n",
       "  </tbody>\n",
       "</table>\n",
       "</div>"
      ],
      "text/plain": [
       "     quantidade  total_vendas\n",
       "mes                          \n",
       "1           139        855799\n",
       "2            43        254522\n",
       "3            53        273834\n",
       "4            41        273674\n",
       "5            46        277773\n",
       "6            45        267447\n",
       "7            43        273831\n",
       "8            47        244092\n",
       "9            44        274004\n",
       "10           43        273334\n",
       "11           48        308940\n",
       "12           50        280440"
      ]
     },
     "execution_count": 13,
     "metadata": {},
     "output_type": "execute_result"
    }
   ],
   "source": [
    "df_groupby = df.groupby('mes')[('quantidade','total_vendas')].sum()\n",
    "df_groupby "
   ]
  },
  {
   "cell_type": "code",
   "execution_count": 14,
   "id": "90c6eff2",
   "metadata": {},
   "outputs": [
    {
     "data": {
      "text/html": [
       "<div>\n",
       "<style scoped>\n",
       "    .dataframe tbody tr th:only-of-type {\n",
       "        vertical-align: middle;\n",
       "    }\n",
       "\n",
       "    .dataframe tbody tr th {\n",
       "        vertical-align: top;\n",
       "    }\n",
       "\n",
       "    .dataframe thead th {\n",
       "        text-align: right;\n",
       "    }\n",
       "</style>\n",
       "<table border=\"1\" class=\"dataframe\">\n",
       "  <thead>\n",
       "    <tr style=\"text-align: right;\">\n",
       "      <th></th>\n",
       "      <th>quantidade</th>\n",
       "      <th>total_vendas</th>\n",
       "      <th>ticket_medio</th>\n",
       "    </tr>\n",
       "    <tr>\n",
       "      <th>mes</th>\n",
       "      <th></th>\n",
       "      <th></th>\n",
       "      <th></th>\n",
       "    </tr>\n",
       "  </thead>\n",
       "  <tbody>\n",
       "    <tr>\n",
       "      <th>1</th>\n",
       "      <td>139</td>\n",
       "      <td>855799</td>\n",
       "      <td>6156.827338</td>\n",
       "    </tr>\n",
       "    <tr>\n",
       "      <th>2</th>\n",
       "      <td>43</td>\n",
       "      <td>254522</td>\n",
       "      <td>5919.116279</td>\n",
       "    </tr>\n",
       "    <tr>\n",
       "      <th>3</th>\n",
       "      <td>53</td>\n",
       "      <td>273834</td>\n",
       "      <td>5166.679245</td>\n",
       "    </tr>\n",
       "    <tr>\n",
       "      <th>4</th>\n",
       "      <td>41</td>\n",
       "      <td>273674</td>\n",
       "      <td>6674.975610</td>\n",
       "    </tr>\n",
       "    <tr>\n",
       "      <th>5</th>\n",
       "      <td>46</td>\n",
       "      <td>277773</td>\n",
       "      <td>6038.543478</td>\n",
       "    </tr>\n",
       "    <tr>\n",
       "      <th>6</th>\n",
       "      <td>45</td>\n",
       "      <td>267447</td>\n",
       "      <td>5943.266667</td>\n",
       "    </tr>\n",
       "    <tr>\n",
       "      <th>7</th>\n",
       "      <td>43</td>\n",
       "      <td>273831</td>\n",
       "      <td>6368.162791</td>\n",
       "    </tr>\n",
       "    <tr>\n",
       "      <th>8</th>\n",
       "      <td>47</td>\n",
       "      <td>244092</td>\n",
       "      <td>5193.446809</td>\n",
       "    </tr>\n",
       "    <tr>\n",
       "      <th>9</th>\n",
       "      <td>44</td>\n",
       "      <td>274004</td>\n",
       "      <td>6227.363636</td>\n",
       "    </tr>\n",
       "    <tr>\n",
       "      <th>10</th>\n",
       "      <td>43</td>\n",
       "      <td>273334</td>\n",
       "      <td>6356.604651</td>\n",
       "    </tr>\n",
       "    <tr>\n",
       "      <th>11</th>\n",
       "      <td>48</td>\n",
       "      <td>308940</td>\n",
       "      <td>6436.250000</td>\n",
       "    </tr>\n",
       "    <tr>\n",
       "      <th>12</th>\n",
       "      <td>50</td>\n",
       "      <td>280440</td>\n",
       "      <td>5608.800000</td>\n",
       "    </tr>\n",
       "  </tbody>\n",
       "</table>\n",
       "</div>"
      ],
      "text/plain": [
       "     quantidade  total_vendas  ticket_medio\n",
       "mes                                        \n",
       "1           139        855799   6156.827338\n",
       "2            43        254522   5919.116279\n",
       "3            53        273834   5166.679245\n",
       "4            41        273674   6674.975610\n",
       "5            46        277773   6038.543478\n",
       "6            45        267447   5943.266667\n",
       "7            43        273831   6368.162791\n",
       "8            47        244092   5193.446809\n",
       "9            44        274004   6227.363636\n",
       "10           43        273334   6356.604651\n",
       "11           48        308940   6436.250000\n",
       "12           50        280440   5608.800000"
      ]
     },
     "execution_count": 14,
     "metadata": {},
     "output_type": "execute_result"
    }
   ],
   "source": [
    "df_groupby['ticket_medio'] = df_groupby['total_vendas'] / df_groupby['quantidade']\n",
    "df_groupby"
   ]
  },
  {
   "cell_type": "code",
   "execution_count": 15,
   "id": "2a67966f",
   "metadata": {},
   "outputs": [
    {
     "data": {
      "image/png": "[encoded data removed]",
      "text/plain": [
       "<Figure size 864x432 with 1 Axes>"
      ]
     },
     "metadata": {
      "needs_background": "light"
     },
     "output_type": "display_data"
    }
   ],
   "source": [
    "figure, ax = plt.subplots(figsize=(12, 6))\n",
    "media = plt.bar(df_groupby.index,df_groupby['ticket_medio'],data=df_groupby,alpha=0.5)\n",
    "plt.title(\"Ticket medio mensal\",fontsize=(20),pad=15)\n",
    "plt.ylabel(\"Valor\",fontsize=(15),labelpad=15)\n",
    "plt.xlabel(\"Mês\",fontsize=(15),labelpad=15)\n",
    "ax.bar_label(media);\n",
    "plt.yticks(fontsize=15) \n",
    "plt.xticks(ticks=[1,2,3,4,5,6,7,8,9,10,11,12],fontsize=15) \n",
    "\n",
    "plt.show()"
   ]
  },
  {
   "cell_type": "markdown",
   "id": "7222fbd3",
   "metadata": {},
   "source": [
    "#### Valor vendido mensalmente e quantidade total mês"
   ]
  },
  {
   "cell_type": "code",
   "execution_count": 16,
   "id": "4a8ad1ca",
   "metadata": {},
   "outputs": [
    {
     "data": {
      "text/html": [
       "<div>\n",
       "<style scoped>\n",
       "    .dataframe tbody tr th:only-of-type {\n",
       "        vertical-align: middle;\n",
       "    }\n",
       "\n",
       "    .dataframe tbody tr th {\n",
       "        vertical-align: top;\n",
       "    }\n",
       "\n",
       "    .dataframe thead th {\n",
       "        text-align: right;\n",
       "    }\n",
       "</style>\n",
       "<table border=\"1\" class=\"dataframe\">\n",
       "  <thead>\n",
       "    <tr style=\"text-align: right;\">\n",
       "      <th></th>\n",
       "      <th>total_vendas</th>\n",
       "    </tr>\n",
       "    <tr>\n",
       "      <th>mes</th>\n",
       "      <th></th>\n",
       "    </tr>\n",
       "  </thead>\n",
       "  <tbody>\n",
       "    <tr>\n",
       "      <th>1</th>\n",
       "      <td>855799</td>\n",
       "    </tr>\n",
       "    <tr>\n",
       "      <th>2</th>\n",
       "      <td>254522</td>\n",
       "    </tr>\n",
       "    <tr>\n",
       "      <th>3</th>\n",
       "      <td>273834</td>\n",
       "    </tr>\n",
       "    <tr>\n",
       "      <th>4</th>\n",
       "      <td>273674</td>\n",
       "    </tr>\n",
       "    <tr>\n",
       "      <th>5</th>\n",
       "      <td>277773</td>\n",
       "    </tr>\n",
       "    <tr>\n",
       "      <th>6</th>\n",
       "      <td>267447</td>\n",
       "    </tr>\n",
       "    <tr>\n",
       "      <th>7</th>\n",
       "      <td>273831</td>\n",
       "    </tr>\n",
       "    <tr>\n",
       "      <th>8</th>\n",
       "      <td>244092</td>\n",
       "    </tr>\n",
       "    <tr>\n",
       "      <th>9</th>\n",
       "      <td>274004</td>\n",
       "    </tr>\n",
       "    <tr>\n",
       "      <th>10</th>\n",
       "      <td>273334</td>\n",
       "    </tr>\n",
       "    <tr>\n",
       "      <th>11</th>\n",
       "      <td>308940</td>\n",
       "    </tr>\n",
       "    <tr>\n",
       "      <th>12</th>\n",
       "      <td>280440</td>\n",
       "    </tr>\n",
       "  </tbody>\n",
       "</table>\n",
       "</div>"
      ],
      "text/plain": [
       "     total_vendas\n",
       "mes              \n",
       "1          855799\n",
       "2          254522\n",
       "3          273834\n",
       "4          273674\n",
       "5          277773\n",
       "6          267447\n",
       "7          273831\n",
       "8          244092\n",
       "9          274004\n",
       "10         273334\n",
       "11         308940\n",
       "12         280440"
      ]
     },
     "execution_count": 16,
     "metadata": {},
     "output_type": "execute_result"
    }
   ],
   "source": [
    "valor_mensal = df.pivot_table(index='mes', values='total_vendas', aggfunc='sum')\n",
    "valor_mensal"
   ]
  },
  {
   "cell_type": "code",
   "execution_count": 17,
   "id": "c8eaf57b",
   "metadata": {},
   "outputs": [
    {
     "data": {
      "image/png": "[encoded data removed]",
      "text/plain": [
       "<Figure size 864x432 with 1 Axes>"
      ]
     },
     "metadata": {
      "needs_background": "light"
     },
     "output_type": "display_data"
    }
   ],
   "source": [
    "plt.figure(figsize=(12,6))\n",
    "\n",
    "ax = sns.barplot(data=valor_mensal,x=valor_mensal.index,y='total_vendas')\n",
    "ax.set_title('Valor mensal vendido em 2021',pad=15)\n",
    "ax.bar_label(ax.containers[0]);"
   ]
  },
  {
   "cell_type": "code",
   "execution_count": 18,
   "id": "2368eb1c",
   "metadata": {},
   "outputs": [
    {
     "data": {
      "text/html": [
       "<div>\n",
       "<style scoped>\n",
       "    .dataframe tbody tr th:only-of-type {\n",
       "        vertical-align: middle;\n",
       "    }\n",
       "\n",
       "    .dataframe tbody tr th {\n",
       "        vertical-align: top;\n",
       "    }\n",
       "\n",
       "    .dataframe thead th {\n",
       "        text-align: right;\n",
       "    }\n",
       "</style>\n",
       "<table border=\"1\" class=\"dataframe\">\n",
       "  <thead>\n",
       "    <tr style=\"text-align: right;\">\n",
       "      <th></th>\n",
       "      <th>quantidade</th>\n",
       "    </tr>\n",
       "    <tr>\n",
       "      <th>mes</th>\n",
       "      <th></th>\n",
       "    </tr>\n",
       "  </thead>\n",
       "  <tbody>\n",
       "    <tr>\n",
       "      <th>1</th>\n",
       "      <td>139</td>\n",
       "    </tr>\n",
       "    <tr>\n",
       "      <th>2</th>\n",
       "      <td>43</td>\n",
       "    </tr>\n",
       "    <tr>\n",
       "      <th>3</th>\n",
       "      <td>53</td>\n",
       "    </tr>\n",
       "    <tr>\n",
       "      <th>4</th>\n",
       "      <td>41</td>\n",
       "    </tr>\n",
       "    <tr>\n",
       "      <th>5</th>\n",
       "      <td>46</td>\n",
       "    </tr>\n",
       "    <tr>\n",
       "      <th>6</th>\n",
       "      <td>45</td>\n",
       "    </tr>\n",
       "    <tr>\n",
       "      <th>7</th>\n",
       "      <td>43</td>\n",
       "    </tr>\n",
       "    <tr>\n",
       "      <th>8</th>\n",
       "      <td>47</td>\n",
       "    </tr>\n",
       "    <tr>\n",
       "      <th>9</th>\n",
       "      <td>44</td>\n",
       "    </tr>\n",
       "    <tr>\n",
       "      <th>10</th>\n",
       "      <td>43</td>\n",
       "    </tr>\n",
       "    <tr>\n",
       "      <th>11</th>\n",
       "      <td>48</td>\n",
       "    </tr>\n",
       "    <tr>\n",
       "      <th>12</th>\n",
       "      <td>50</td>\n",
       "    </tr>\n",
       "  </tbody>\n",
       "</table>\n",
       "</div>"
      ],
      "text/plain": [
       "     quantidade\n",
       "mes            \n",
       "1           139\n",
       "2            43\n",
       "3            53\n",
       "4            41\n",
       "5            46\n",
       "6            45\n",
       "7            43\n",
       "8            47\n",
       "9            44\n",
       "10           43\n",
       "11           48\n",
       "12           50"
      ]
     },
     "execution_count": 18,
     "metadata": {},
     "output_type": "execute_result"
    }
   ],
   "source": [
    "valor_mensal = df.pivot_table(index='mes', values='quantidade', aggfunc='sum')\n",
    "valor_mensal"
   ]
  },
  {
   "cell_type": "code",
   "execution_count": 19,
   "id": "2268bdcf",
   "metadata": {},
   "outputs": [
    {
     "data": {
      "image/png": "[encoded data removed]",
      "text/plain": [
       "<Figure size 864x432 with 1 Axes>"
      ]
     },
     "metadata": {
      "needs_background": "light"
     },
     "output_type": "display_data"
    }
   ],
   "source": [
    "plt.figure(figsize=(12,6))\n",
    "ax = sns.barplot(data=valor_mensal,x=valor_mensal.index,y='quantidade')\n",
    "ax.set_title('Quantidade mensal vendida em 2021',pad=15)\n",
    "ax.bar_label(ax.containers[0]);"
   ]
  },
  {
   "cell_type": "markdown",
   "id": "afae8cac",
   "metadata": {},
   "source": [
    "#### Abertura por vendedor"
   ]
  },
  {
   "cell_type": "code",
   "execution_count": 23,
   "id": "35440e55",
   "metadata": {},
   "outputs": [
    {
     "data": {
      "text/html": [
       "<div>\n",
       "<style scoped>\n",
       "    .dataframe tbody tr th:only-of-type {\n",
       "        vertical-align: middle;\n",
       "    }\n",
       "\n",
       "    .dataframe tbody tr th {\n",
       "        vertical-align: top;\n",
       "    }\n",
       "\n",
       "    .dataframe thead th {\n",
       "        text-align: right;\n",
       "    }\n",
       "</style>\n",
       "<table border=\"1\" class=\"dataframe\">\n",
       "  <thead>\n",
       "    <tr style=\"text-align: right;\">\n",
       "      <th></th>\n",
       "      <th>total_vendas</th>\n",
       "    </tr>\n",
       "    <tr>\n",
       "      <th>vendedor</th>\n",
       "      <th></th>\n",
       "    </tr>\n",
       "  </thead>\n",
       "  <tbody>\n",
       "    <tr>\n",
       "      <th>Theo</th>\n",
       "      <td>1285724</td>\n",
       "    </tr>\n",
       "    <tr>\n",
       "      <th>Carlos</th>\n",
       "      <td>932764</td>\n",
       "    </tr>\n",
       "    <tr>\n",
       "      <th>Fernanda</th>\n",
       "      <td>853949</td>\n",
       "    </tr>\n",
       "    <tr>\n",
       "      <th>Raquel</th>\n",
       "      <td>785253</td>\n",
       "    </tr>\n",
       "  </tbody>\n",
       "</table>\n",
       "</div>"
      ],
      "text/plain": [
       "          total_vendas\n",
       "vendedor              \n",
       "Theo           1285724\n",
       "Carlos          932764\n",
       "Fernanda        853949\n",
       "Raquel          785253"
      ]
     },
     "execution_count": 23,
     "metadata": {},
     "output_type": "execute_result"
    }
   ],
   "source": [
    "vendas_vendedor = df.groupby('vendedor')['total_vendas'].sum()\n",
    "vendas_vendedor.sort_values(ascending=False).to_frame()"
   ]
  },
  {
   "cell_type": "code",
   "execution_count": 22,
   "id": "da07d02a",
   "metadata": {},
   "outputs": [
    {
     "data": {
      "image/png": "[encoded data removed]",
      "text/plain": [
       "<Figure size 864x432 with 1 Axes>"
      ]
     },
     "metadata": {
      "needs_background": "light"
     },
     "output_type": "display_data"
    }
   ],
   "source": [
    "plt.figure(figsize=(12,6))\n",
    "ax = vendas_vendedor.sort_values(ascending=True).plot(x='total_vendas',y=vendas_vendedor.index,kind='barh',\n",
    "                                                 title='Abertura por Vendedor',xlabel='Vendedores')\n",
    "ax.set_xlabel('Valor vendido em 2021')\n",
    "plt.show()"
   ]
  }
 ],
 "metadata": {
  "kernelspec": {
   "display_name": "Python 3 (ipykernel)",
   "language": "python",
   "name": "python3"
  },
  "language_info": {
   "codemirror_mode": {
    "name": "ipython",
    "version": 3
   },
   "file_extension": ".py",
   "mimetype": "text/x-python",
   "name": "python",
   "nbconvert_exporter": "python",
   "pygments_lexer": "ipython3",
   "version": "3.9.12"
  }
 },
 "nbformat": 4,
 "nbformat_minor": 5
}
